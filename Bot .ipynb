{
 "cells": [
  {
   "cell_type": "code",
   "execution_count": 11,
   "metadata": {
    "collapsed": false
   },
   "outputs": [],
   "source": [
    "import random"
   ]
  },
  {
   "cell_type": "code",
   "execution_count": 12,
   "metadata": {
    "collapsed": true
   },
   "outputs": [],
   "source": [
    "# Sentences we'll respond with if the user greeted us\n",
    "GREETING_KEYWORDS = (\"hello\", \"hi\", \"greetings\", \"sup\", \"what's up\",)\n",
    "\n",
    "GREETING_RESPONSES = [\"'sup bro\", \"hey\", \"*nods*\", \"hey you get my snap?\"]\n",
    "\n",
    "def check_for_greeting(sentence):\n",
    "    \"\"\"If any of the words in the user's input was a greeting, return a greeting response\"\"\"\n",
    "    for word in sentence.split():\n",
    "        if word.lower() in GREETING_KEYWORDS:\n",
    "            return random.choice(GREETING_RESPONSES)\n",
    "\n"
   ]
  },
  {
   "cell_type": "code",
   "execution_count": 18,
   "metadata": {
    "collapsed": false
   },
   "outputs": [
    {
     "data": {
      "text/plain": [
       "'hey you get my snap?'"
      ]
     },
     "execution_count": 18,
     "metadata": {},
     "output_type": "execute_result"
    }
   ],
   "source": [
    "check_for_greeting(\"sup bro\")"
   ]
  },
  {
   "cell_type": "code",
   "execution_count": null,
   "metadata": {
    "collapsed": true
   },
   "outputs": [],
   "source": [
    "\n"
   ]
  },
  {
   "cell_type": "code",
   "execution_count": null,
   "metadata": {
    "collapsed": true
   },
   "outputs": [],
   "source": []
  },
  {
   "cell_type": "code",
   "execution_count": 2,
   "metadata": {
    "collapsed": true
   },
   "outputs": [],
   "source": [
    "def find_pronoun(sent):\n",
    "    \"\"\"Given a sentence, find a preferred pronoun to respond with. Returns None if no candidate\n",
    "    pronoun is found in the input\"\"\"\n",
    "    pronoun = None\n",
    "\n",
    "    for word, part_of_speech in sent.pos_tags:\n",
    "        # Disambiguate pronouns\n",
    "        if part_of_speech == 'PRP' and word.lower() == 'you':\n",
    "            pronoun = 'I'\n",
    "        elif part_of_speech == 'PRP' and word == 'I':\n",
    "            # If the user mentioned themselves, then they will definitely be the pronoun\n",
    "            pronoun = 'You'\n",
    "    return pronoun"
   ]
  },
  {
   "cell_type": "code",
   "execution_count": null,
   "metadata": {
    "collapsed": true
   },
   "outputs": [],
   "source": [
    "find_pronoun()"
   ]
  },
  {
   "cell_type": "code",
   "execution_count": 3,
   "metadata": {
    "collapsed": true
   },
   "outputs": [],
   "source": [
    "def check_for_comment_about_bot(pronoun, noun, adjective):\n",
    "    \"\"\"Check if the user's input was about the bot itself, in which case try to fashion a response\n",
    "    that feels right based on their input. Returns the new best sentence, or None.\"\"\"\n",
    "    resp = None\n",
    "    if pronoun == 'I' and (noun or adjective):\n",
    "        if noun:\n",
    "            if random.choice((True, False)):\n",
    "                resp = random.choice(SELF_VERBS_WITH_NOUN_CAPS_PLURAL).format(**{'noun': noun.pluralize().capitalize()})\n",
    "            else:\n",
    "                resp = random.choice(SELF_VERBS_WITH_NOUN_LOWER).format(**{'noun': noun})\n",
    "        else:\n",
    "            resp = random.choice(SELF_VERBS_WITH_ADJECTIVE).format(**{'adjective': adjective})\n",
    "    return resp\n",
    "\n",
    "# Template for responses that include a direct noun which is indefinite/uncountable\n",
    "SELF_VERBS_WITH_NOUN_CAPS_PLURAL = [\n",
    "    \"My last startup totally crushed the {noun} vertical\",\n",
    "    \"Were you aware I was a serial entrepreneur in the {noun} sector?\",\n",
    "    \"My startup is Uber for {noun}\",\n",
    "    \"I really consider myself an expert on {noun}\",\n",
    "]\n",
    "\n",
    "SELF_VERBS_WITH_NOUN_LOWER = [\n",
    "    \"Yeah but I know a lot about {noun}\",\n",
    "    \"My bros always ask me about {noun}\",\n",
    "]\n",
    "\n",
    "SELF_VERBS_WITH_ADJECTIVE = [\n",
    "    \"I'm personally building the {adjective} Economy\",\n",
    "    \"I consider myself to be a {adjective}preneur\",\n",
    "]"
   ]
  },
  {
   "cell_type": "code",
   "execution_count": 4,
   "metadata": {
    "collapsed": true
   },
   "outputs": [],
   "source": [
    "def construct_response(pronoun, noun, verb):\n",
    "    \"\"\"No special cases matched, so we're going to try to construct a full sentence that uses as much\n",
    "    of the user's input as possible\"\"\"\n",
    "    resp = []\n",
    "\n",
    "    if pronoun:\n",
    "        resp.append(pronoun)\n",
    "\n",
    "    # We always respond in the present tense, and the pronoun will always either be a passthrough\n",
    "    # from the user, or 'you' or 'I', in which case we might need to change the tense for some\n",
    "    # irregular verbs.\n",
    "    if verb:\n",
    "        verb_word = verb[0]\n",
    "        if verb_word in ('be', 'am', 'is', \"'m\"):  # This would be an excellent place to use lemmas!\n",
    "            if pronoun.lower() == 'you':\n",
    "                # The bot will always tell the person they aren't whatever they said they were\n",
    "                resp.append(\"aren't really\")\n",
    "            else:\n",
    "                resp.append(verb_word)\n",
    "    if noun:\n",
    "        pronoun = \"an\" if starts_with_vowel(noun) else \"a\"\n",
    "        resp.append(pronoun + \" \" + noun)\n",
    "\n",
    "    resp.append(random.choice((\"tho\", \"bro\", \"lol\", \"bruh\", \"smh\", \"\")))\n",
    "\n",
    "    return \" \".join(resp)"
   ]
  },
  {
   "cell_type": "code",
   "execution_count": null,
   "metadata": {
    "collapsed": true
   },
   "outputs": [],
   "source": []
  },
  {
   "cell_type": "code",
   "execution_count": 5,
   "metadata": {
    "collapsed": true
   },
   "outputs": [],
   "source": [
    "def filter_response(resp):\n",
    "    \"\"\"Don't allow any words to match our filter list\"\"\"\n",
    "    tokenized = resp.split(' ')\n",
    "    for word in tokenized:\n",
    "        if '@' in word or '#' in word or '!' in word:\n",
    "            raise UnacceptableUtteranceException()\n",
    "        for s in FILTER_WORDS:\n",
    "            if word.lower().startswith(s):\n",
    "                raise UnacceptableUtteranceException()"
   ]
  },
  {
   "cell_type": "code",
   "execution_count": null,
   "metadata": {
    "collapsed": true
   },
   "outputs": [],
   "source": []
  },
  {
   "cell_type": "code",
   "execution_count": null,
   "metadata": {
    "collapsed": true
   },
   "outputs": [],
   "source": []
  }
 ],
 "metadata": {
  "kernelspec": {
   "display_name": "Python 2",
   "language": "python",
   "name": "python2"
  },
  "language_info": {
   "codemirror_mode": {
    "name": "ipython",
    "version": 2
   },
   "file_extension": ".py",
   "mimetype": "text/x-python",
   "name": "python",
   "nbconvert_exporter": "python",
   "pygments_lexer": "ipython2",
   "version": "2.7.13"
  }
 },
 "nbformat": 4,
 "nbformat_minor": 2
}
